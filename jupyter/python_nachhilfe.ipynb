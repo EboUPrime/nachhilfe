{
 "cells": [
  {
   "cell_type": "markdown",
   "metadata": {},
   "source": [
    "# **Python-Nachhilfe für Anfänger & Fortgeschrittene**\n"
   ]
  },
  {
   "cell_type": "markdown",
   "metadata": {},
   "source": [
    "## **1. Datentypen in Python**\n"
   ]
  },
  {
   "cell_type": "code",
   "execution_count": null,
   "metadata": {},
   "outputs": [],
   "source": [
    "# Integer (Ganzzahl)\n",
    "x = 10\n",
    "print(type(x))  # Ausgabe: <class 'int'>"
   ]
  },
  {
   "cell_type": "code",
   "execution_count": null,
   "metadata": {},
   "outputs": [],
   "source": [
    "# Float (Gleitkommazahl)\n",
    "x = 3.14\n",
    "print(type(x))  # Ausgabe: <class 'float'>"
   ]
  },
  {
   "cell_type": "code",
   "execution_count": null,
   "metadata": {},
   "outputs": [],
   "source": [
    "# String (Zeichenkette)\n",
    "text = \"Hallo, Python!\"\n",
    "print(type(text))  # Ausgabe: <class 'str'>"
   ]
  },
  {
   "cell_type": "code",
   "execution_count": null,
   "metadata": {},
   "outputs": [],
   "source": [
    "# Boolean (Wahrheitswerte)\n",
    "wahr = True\n",
    "falsch = False\n",
    "print(type(wahr))  # Ausgabe: <class 'bool'>"
   ]
  },
  {
   "cell_type": "markdown",
   "metadata": {
    "jp-MarkdownHeadingCollapsed": true
   },
   "source": [
    "## **2. Kombination von Datentypen & häufige Fehler**\n"
   ]
  },
  {
   "cell_type": "code",
   "execution_count": null,
   "metadata": {},
   "outputs": [],
   "source": [
    "# Kombination von Strings und Zahlen\n",
    "zahl = 5\n",
    "text = \"Das Ergebnis ist: \" + str(zahl)  # Explizite Umwandlung nötig\n",
    "print(text)  # Ausgabe: Das Ergebnis ist: 5"
   ]
  },
  {
   "cell_type": "code",
   "execution_count": null,
   "metadata": {},
   "outputs": [],
   "source": [
    "# Häufiger Fehler: Addition von String und Zahl\n",
    "zahl = 10\n",
    "text = \"Alter: \"\n",
    "# print(text + zahl)  # TypeError\n",
    "print(text + str(zahl))  # Richtige Lösung"
   ]
  },
  {
   "cell_type": "markdown",
   "metadata": {
    "jp-MarkdownHeadingCollapsed": true
   },
   "source": [
    "## **3. String-Manipulation in Python**\n"
   ]
  },
  {
   "cell_type": "code",
   "execution_count": null,
   "metadata": {},
   "outputs": [],
   "source": [
    "text = \"   Hallo, Python!   \"\n",
    "print(text.upper())  # Großschreibung\n",
    "print(text.lower())  # Kleinschreibung\n",
    "print(text.strip())  # Entfernt Leerzeichen"
   ]
  },
  {
   "cell_type": "markdown",
   "metadata": {
    "jp-MarkdownHeadingCollapsed": true
   },
   "source": [
    "## **4. Fortgeschrittene Mathematik mit Python**\n"
   ]
  },
  {
   "cell_type": "code",
   "execution_count": null,
   "metadata": {},
   "outputs": [],
   "source": [
    "import math\n",
    "print(math.sqrt(16))  # Quadratwurzel\n",
    "print(math.pow(2, 3))  # Potenz\n",
    "print(math.factorial(5))  # Fakultät"
   ]
  },
  {
   "cell_type": "markdown",
   "metadata": {
    "jp-MarkdownHeadingCollapsed": true
   },
   "source": [
    "## **5. Reguläre Ausdrücke (Regex) in Python**\n"
   ]
  },
  {
   "cell_type": "code",
   "execution_count": null,
   "metadata": {},
   "outputs": [],
   "source": [
    "import re\n",
    "text = \"Meine Telefonnummer ist 0176-12345678.\"\n",
    "muster = r\"\\d{4}-\\d{8}\"\n",
    "treffer = re.search(muster, text)\n",
    "if treffer:\n",
    "    print(\"Gefundene Nummer:\", treffer.group())"
   ]
  },
  {
   "cell_type": "markdown",
   "metadata": {
    "jp-MarkdownHeadingCollapsed": true
   },
   "source": [
    "## **6. Python-Nachhilfe für Anfänger: Ideen & Projekte**\n"
   ]
  },
  {
   "cell_type": "code",
   "metadata": {
    "ExecuteTime": {
     "end_time": "2025-04-01T17:01:24.331295Z",
     "start_time": "2025-04-01T17:01:17.151768Z"
    }
   },
   "source": [
    "name = input(\"Wie heißt du? \")\n",
    "print(\"Hallo\", name, \"Willkommen in der Welt von Python!\")"
   ],
   "outputs": [
    {
     "name": "stdout",
     "output_type": "stream",
     "text": [
      "Hallo Givara Willkommen in der Welt von Python!\n"
     ]
    }
   ],
   "execution_count": 1
  },
  {
   "cell_type": "markdown",
   "metadata": {},
   "source": [
    "## **Quellen & Weiterführende Links**\n",
    "- [Python Dokumentation](https://docs.python.org/3/)\n",
    "- [W3Schools Python Tutorial](https://www.w3schools.com/python/)\n",
    "- [Real Python](https://realpython.com/)"
   ]
  },
  {
   "metadata": {},
   "cell_type": "code",
   "outputs": [],
   "execution_count": null,
   "source": ""
  }
 ],
 "metadata": {
  "kernelspec": {
   "display_name": "Python 3 (ipykernel)",
   "language": "python",
   "name": "python3"
  },
  "language_info": {
   "codemirror_mode": {
    "name": "ipython",
    "version": 3
   },
   "file_extension": ".py",
   "mimetype": "text/x-python",
   "name": "python",
   "nbconvert_exporter": "python",
   "pygments_lexer": "ipython3",
   "version": "3.13.2"
  }
 },
 "nbformat": 4,
 "nbformat_minor": 4
}
