{
 "cells": [
  {
   "cell_type": "markdown",
   "id": "f7e10100",
   "metadata": {},
   "source": [
    "# 🐍 Einführung in Python: Elementare Datentypen, Operationen und Schleifen"
   ]
  },
  {
   "cell_type": "markdown",
   "id": "6e87ca0b",
   "metadata": {},
   "source": [
    "## 🔹 Elementare Datentypen"
   ]
  },
  {
   "cell_type": "markdown",
   "id": "bf73d902",
   "metadata": {},
   "source": [
    "\n",
    "### Ganzzahlen (int)\n",
    "Ganze Zahlen ohne Nachkommastellen  \n",
    "Beispiel: 5, -3, 0\n"
   ]
  },
  {
   "cell_type": "code",
   "execution_count": null,
   "id": "65af4308",
   "metadata": {},
   "outputs": [],
   "source": [
    "\n",
    "a = 5\n",
    "print(\"Ganzzahl:\", a, type(a))\n"
   ]
  },
  {
   "cell_type": "markdown",
   "id": "765033cb",
   "metadata": {},
   "source": [
    "\n",
    "### Fließkommazahlen (float)\n",
    "Zahlen mit Nachkommastellen\n"
   ]
  },
  {
   "cell_type": "code",
   "execution_count": null,
   "id": "4f3a5a0f",
   "metadata": {},
   "outputs": [],
   "source": [
    "\n",
    "b = 3.14\n",
    "print(\"Fließkommazahl:\", b, type(b))\n"
   ]
  },
  {
   "cell_type": "markdown",
   "id": "a423079a",
   "metadata": {},
   "source": [
    "\n",
    "### Wahrheitswerte (bool)\n",
    "Entweder True (wahr) oder False (falsch)\n"
   ]
  },
  {
   "cell_type": "code",
   "execution_count": null,
   "id": "5347a1ad",
   "metadata": {},
   "outputs": [],
   "source": [
    "\n",
    "c = True\n",
    "d = False\n",
    "print(\"Boolesche Werte:\", c, d, type(c))\n"
   ]
  },
  {
   "cell_type": "markdown",
   "id": "ba5f47cd",
   "metadata": {},
   "source": [
    "\n",
    "### Zeichenketten (str)\n",
    "Textinformationen, eingeschlossen in \"\" oder ''\n"
   ]
  },
  {
   "cell_type": "code",
   "execution_count": null,
   "id": "68571b38",
   "metadata": {},
   "outputs": [],
   "source": [
    "\n",
    "text = \"Hallo Welt\"\n",
    "print(\"Zeichenkette:\", text, type(text))\n"
   ]
  },
  {
   "cell_type": "markdown",
   "id": "b480fb50",
   "metadata": {},
   "source": [
    "\n",
    "### Listen (list)\n",
    "Veränderbare Sammlung von Werten, auch gemischt\n"
   ]
  },
  {
   "cell_type": "code",
   "execution_count": null,
   "id": "c071e672",
   "metadata": {},
   "outputs": [],
   "source": [
    "\n",
    "daten = [1, 2, 3, \"vier\"]\n",
    "print(\"Liste:\", daten, type(daten))\n"
   ]
  },
  {
   "cell_type": "markdown",
   "id": "fdee8d3d",
   "metadata": {},
   "source": [
    "\n",
    "### Tupel (tuple)\n",
    "Unveränderbare Sammlung von Werten\n"
   ]
  },
  {
   "cell_type": "code",
   "execution_count": null,
   "id": "fbba84e3",
   "metadata": {},
   "outputs": [],
   "source": [
    "\n",
    "mein_tupel = (1, 2, 3)\n",
    "print(\"Tupel:\", mein_tupel, type(mein_tupel))\n"
   ]
  },
  {
   "cell_type": "markdown",
   "id": "624b35a5",
   "metadata": {},
   "source": [
    "\n",
    "### Mengen (set)\n",
    "Sammlung von eindeutigen Werten (keine Duplikate)\n"
   ]
  },
  {
   "cell_type": "code",
   "execution_count": null,
   "id": "bb40d95d",
   "metadata": {},
   "outputs": [],
   "source": [
    "\n",
    "mein_set = {1, 2, 2, 3}\n",
    "print(\"Menge:\", mein_set, type(mein_set))\n"
   ]
  },
  {
   "cell_type": "markdown",
   "id": "9670aa0b",
   "metadata": {},
   "source": [
    "\n",
    "### Wörterbuch (dict)\n",
    "Schlüssel-Wert-Paare zum Speichern von Zuordnungen\n"
   ]
  },
  {
   "cell_type": "code",
   "execution_count": null,
   "id": "91a368f6",
   "metadata": {},
   "outputs": [],
   "source": [
    "\n",
    "mein_dict = {\"name\": \"Ali\", \"alter\": 25}\n",
    "print(\"Wörterbuch:\", mein_dict, type(mein_dict))\n"
   ]
  },
  {
   "cell_type": "markdown",
   "id": "f56445e2",
   "metadata": {},
   "source": [
    "## 🔹 Grundlegende Operationen"
   ]
  },
  {
   "cell_type": "code",
   "execution_count": null,
   "id": "2f9f72a6",
   "metadata": {},
   "outputs": [],
   "source": [
    "\n",
    "# Arithmetische Operationen mit Zahlen\n",
    "x = 10\n",
    "y = 3\n",
    "print(\"Addition:\", x + y)      # 13\n",
    "print(\"Subtraktion:\", x - y)   # 7\n",
    "print(\"Multiplikation:\", x * y)  # 30\n",
    "print(\"Division:\", x / y)      # 3.33...\n",
    "print(\"Ganzzahl-Division:\", x // y)  # 3\n",
    "print(\"Modulus (Rest):\", x % y)     # 1\n",
    "print(\"Potenz:\", x ** y)       # 1000\n"
   ]
  },
  {
   "cell_type": "code",
   "execution_count": null,
   "id": "6d22faf2",
   "metadata": {},
   "outputs": [],
   "source": [
    "\n",
    "# Vergleichsoperatoren\n",
    "print(\"x == y:\", x == y)  # gleich?\n",
    "print(\"x != y:\", x != y)  # ungleich?\n",
    "print(\"x > y:\", x > y)\n",
    "print(\"x < y:\", x < y)\n",
    "print(\"x >= y:\", x >= y)\n",
    "print(\"x <= y:\", x <= y)\n"
   ]
  },
  {
   "cell_type": "code",
   "execution_count": null,
   "id": "63a2738e",
   "metadata": {},
   "outputs": [],
   "source": [
    "\n",
    "# Logische Operatoren\n",
    "# Arbeiten mit booleschen Werten\n",
    "print(\"True and False:\", True and False)\n",
    "print(\"True or False:\", True or False)\n",
    "print(\"not True:\", not True)\n"
   ]
  },
  {
   "cell_type": "markdown",
   "id": "265d5e23",
   "metadata": {},
   "source": [
    "## 🔹 Kontrollstrukturen – Schleifen"
   ]
  },
  {
   "cell_type": "markdown",
   "id": "9be2c083",
   "metadata": {},
   "source": [
    "\n",
    "### for-Schleife  \n",
    "Wiederhole etwas für jedes Element in einer Sequenz\n"
   ]
  },
  {
   "cell_type": "code",
   "execution_count": null,
   "id": "b2e1cc66",
   "metadata": {},
   "outputs": [],
   "source": [
    "\n",
    "print(\"\\nfor-Schleife:\")\n",
    "for i in range(5):  # von 0 bis 4\n",
    "    print(\"Durchlauf:\", i)\n"
   ]
  },
  {
   "cell_type": "markdown",
   "id": "12766b1a",
   "metadata": {},
   "source": [
    "\n",
    "### while-Schleife  \n",
    "Wiederhole solange eine Bedingung erfüllt ist\n"
   ]
  },
  {
   "cell_type": "code",
   "execution_count": null,
   "id": "a3231570",
   "metadata": {},
   "outputs": [],
   "source": [
    "\n",
    "print(\"\\nwhile-Schleife:\")\n",
    "i = 0\n",
    "while i < 5:\n",
    "    print(\"Durchlauf:\", i)\n",
    "    i += 1\n"
   ]
  },
  {
   "cell_type": "markdown",
   "id": "e74908ff",
   "metadata": {},
   "source": [
    "\n",
    "### break und continue  \n",
    "break = Schleife abbrechen  \n",
    "continue = aktuellen Durchlauf überspringen\n"
   ]
  },
  {
   "cell_type": "code",
   "execution_count": null,
   "id": "dc11f5eb",
   "metadata": {},
   "outputs": [],
   "source": [
    "\n",
    "print(\"\\nSchleife mit break:\")\n",
    "for i in range(10):\n",
    "    if i == 3:\n",
    "        break  # stoppt die Schleife bei 3\n",
    "    print(i)\n",
    "\n",
    "print(\"\\nSchleife mit continue:\")\n",
    "for i in range(5):\n",
    "    if i == 2:\n",
    "        continue  # überspringt die 2\n",
    "    print(i)\n"
   ]
  },
  {
   "cell_type": "markdown",
   "id": "1ed3edaa",
   "metadata": {},
   "source": [
    "\n",
    "### else bei Schleifen  \n",
    "Der else-Block wird nur ausgeführt, wenn die Schleife **nicht durch break** verlassen wurde\n"
   ]
  },
  {
   "cell_type": "code",
   "execution_count": null,
   "id": "1b297638",
   "metadata": {},
   "outputs": [],
   "source": [
    "\n",
    "print(\"\\nelse nach for-Schleife:\")\n",
    "for i in range(3):\n",
    "    print(i)\n",
    "else:\n",
    "    print(\"Schleife beendet ohne break\")\n",
    "\n",
    "print(\"\\nelse mit break:\")\n",
    "for i in range(3):\n",
    "    if i == 1:\n",
    "        break\n",
    "    print(i)\n",
    "else:\n",
    "    print(\"Wird nicht ausgeführt\")\n"
   ]
  }
 ],
 "metadata": {},
 "nbformat": 4,
 "nbformat_minor": 5
}
